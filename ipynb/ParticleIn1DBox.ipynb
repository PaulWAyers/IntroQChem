{
 "cells": [
  {
   "cell_type": "markdown",
   "metadata": {},
   "source": [
    "# The One-Dimensional Particle in a Box\n",
    "![Cyanine Dyes](https://github.com/PaulWAyers/IntroQChem/blob/main/linkedFiles/cyanine.jfif?raw=true \"The absorption spectrum of cyanine dyes can be qualitatively described by a particle-in-a-box model. Image from Jeff Canaria, University of Rhode Island\")\n",
    "\n",
    "## &#x1f945; Learning Objectives\n",
    "- Determine the energies and eigenfunctions of the particle-in-a-box.\n",
    "- Learn how to normalize a wavefunction.\n",
    "- Learn how to compute expectation values for quantum-mechanical operators.\n",
    "- Learn the postulates of quantum mechanics"
   ]
  },
  {
   "cell_type": "markdown",
   "metadata": {},
   "source": [
    "## Cyanine Dyes\n",
    "![Cyanine Dyes](https://github.com/PaulWAyers/IntroQChem/blob/main/linkedFiles/CyanineDyes.svg?raw=true? \"Resonance structures of two different types of cyanine dye\")\n",
    "Cyanine dye molecules are often modelled as one-dimension particles in a box. To understand why, start by thinking classically.  You learn in organic chemistry that electrons can more “freely” along alternating double bonds.  If this is true, then you can imagine that the electrons can more from one Nitrogen to the other, almost without resistance.  On the other hand, there are sp<sup>3</sup>-hybridized functional groups attached to the Nitrogen atom, so once the electron gets to Nitrogen atom, it has to turn around and go back whence it came.   A very, very, very simple model would be to imagine that the electron is totally free between the Nitrogen atoms, and totally forbidden from going much beyond the Nitrogen atoms.  This suggests modeling these systems a potential energy function like:\n",
    "$$\n",
    "V(x) = \n",
    "\\begin{cases}\n",
    "    +\\infty & x\\leq 0\\\\\n",
    "    0       & 0\\lt x \\lt a\\\\\n",
    "    +\\infty & a \\leq x\n",
    "\\end{cases}\n",
    "$$\n",
    "where $a$ is the length of the box. A reasonable approximate formula for $a$ is\n",
    "$$\n",
    "a = \\left(5.67 + 2.49 (k + 1)\\right) \\cdot 10^{-10} \\text{ m}\n",
    "$$"
   ]
  },
  {
   "cell_type": "markdown",
   "metadata": {},
   "source": [
    "## Postulate: The squared magnitude of the wavefunction is proportional to probability\n",
    "What is the interpretation of the wavefunction? The Born postulate indicates that the squared magnitude of the wavefunction is proportional to the probability of observing the system at that location. E.g., if $\\psi(x)$ is the wavefunction for an electron as a function of $x$, then\n",
    "$$ p(x) = |\\psi(x)|^2 $$\n",
    "is the probability of observing an electron at the point $x$. This is called the Born Postulate."
   ]
  },
  {
   "cell_type": "markdown",
   "metadata": {},
   "source": [
    "## The Wavefunctions of the Particle in a Box (boundary conditions)\n",
    "![Particle in a Box Potential](https://upload.wikimedia.org/wikipedia/commons/thumb/1/13/Infinite_potential_well-en.svg/308px-Infinite_potential_well-en.svg.png \"Particle in a box potential, licensed CC-SA3 by Papa.\")\n",
    "\n",
    "The nice thing about this “particle in a box” model is that it is easy to solve the time-independent Schrödinger equation in this case.  Because there is no chance that the particle could ever “escape” an infinite box like this (such an electron would have infinite potential energy!), $|\\psi(x)|^2$ must equal zero outside the box. Therefore the wavefunction can only be nonzero inside the box. In addition, the wavefunction should be zero at the edges of the box, because otherwise the wavefunction will not be continuous.  So we should have a wavefunction like\n",
    "$$\n",
    "\\psi(x) = \n",
    "\\begin{cases}\n",
    "    0& x\\le 0\\\\\n",
    "    \\text{?????}    & 0 < x < a\\\\\n",
    "    0 & a \\le x\n",
    "\\end{cases}\n",
    "$$"
   ]
  },
  {
   "cell_type": "markdown",
   "metadata": {},
   "source": [
    "## Postulate: The wavefunction of a system is determined by solving the Schr&ouml;dinger equation\n",
    "How do we find the wavefunction for the particle-in-a-box or, for that matter, any other system? The wavefunction can be determined by solving the time-independent (when the potential is time-independent) or time-dependent (when the potential is time-dependent) Schr&ouml;dinger equation. "
   ]
  },
  {
   "cell_type": "markdown",
   "metadata": {},
   "source": [
    "## The Wavefunctions of the Particle in a Box (solution)\n",
    "![Wavefunction gif](https://upload.wikimedia.org/wikipedia/commons/8/8f/InfiniteSquareWellAnimation.gif \"The wavefunctions of the 1-dimensional particle in a box, both classically and quantum-mechanically\")\n",
    "To find the wavefunctions for a system, one solves the Schr&ouml;dinger equation. For a particle of mass $m$ in a one-dimensional box, the (time-independent) Schr&ouml;dinger equation is:\n",
    "$$ \n",
    "\\left(-\\frac{\\hbar^2}{2m} \\frac{d^2}{dx^2} + V(x) \\right)\\psi_n(x) = E_n \\psi_n(x)\n",
    "$$\n",
    "where \n",
    "$$\n",
    "V(x) = \n",
    "\\begin{cases}\n",
    "    +\\infty & x\\leq 0\\\\\n",
    "    0       & 0\\lt x \\lt a\\\\\n",
    "    +\\infty & a \\leq x\n",
    "\\end{cases}\n",
    "$$\n",
    "We already deduced that $\\psi(x) = 0$ except when the electron is inside the box ($0 < x < a$), so we only need to consider the Schr&ouml;dinger equation inside the box: \n",
    "$$ \n",
    "\\left(-\\frac{\\hbar^2}{2m} \\frac{d^2}{dx^2} \\right)\\psi_n(x) = E_n \\psi_n(x)\n",
    "$$\n",
    "There are systematic ways to solve this equation, but let's solve it by inspection. That is, we need to know:\n",
    "> Question: What function(s), when differentiated twice, are proportional to themselves?\\\n",
    "\n",
    "This suggests that the eigenfunctions of the 1-dimensional particle-in-a-box must be some linear combination of sine and cosine functions, \n",
    "$$\n",
    "\\psi_n(x) = A \\sin(cx) + B  \\cos(dx)\n",
    "$$\n",
    "We know that the wavefunction must be zero at the edges of the box, $\\psi(0) = 0$ and $\\psi(a) = 0$. These are called the *boundary conditions* for the problem. Examining the first boundary condition,\n",
    "$$\n",
    "0 = \\psi(0) = A \\sin(0) + B \\cos(0) = 0 + B\n",
    "$$\n",
    "indicates that $B=0$. The second boundary condition \n",
    "$$\n",
    "0 = \\psi(a) = A \\sin(c*a)\n",
    "$$\n",
    "requires us to recall that $\\sin(x) = 0$ whenever $x$ is an integer multiple of $\\pi$. So $c=n\\pi$ where $n=1,2,3,\\ldots$. The wavefunction for the particle in a box is thus,\n",
    "$$\n",
    "\\psi_n(x) = A_n \\sin\\left(\\tfrac{n \\pi x}{a}\\right) \\qquad \\qquad n=1,2,3,\\ldots\n",
    "$$"
   ]
  },
  {
   "cell_type": "markdown",
   "metadata": {},
   "source": [
    "## Normalization of Wavefunctions\n",
    "As seen in the previous section, if a wavefunction solves the Schr&ouml;dinger equation, any constant multiple of the wavefunction also solves the Schr&ouml;dinger equation,\n",
    "$$\n",
    "\\hat{H} \\psi(x) = E \\psi(x) \\quad \\longleftrightarrow \\quad \\hat{H} \\left(A\\psi(x)\\right) = E \\left(A\\psi(x)\\right)\n",
    "$$\n",
    "Owing to the Born postulate, the complex square of the wavefunction can be interpreted as probability. Since the probability of a particle being at *some* point in space is one, we can define the normalization constant, $A$, for the wavefunction through the requirement that:\n",
    "$$\n",
    "\\int_{-\\infty}^{\\infty} \\left|\\psi(x)\\right|^2 dx = 1.\n",
    "$$\n",
    "In the case of a particle in a box, this is:\n",
    "\\begin{align}\n",
    "1 &= \\int_{-\\infty}^{\\infty} \\left|\\psi_n(x)\\right|^2 dx  \\\\\n",
    "&= \\int_0^a \\psi_n(x) \\psi_n^*(x) dx \\\\\n",
    "&= \\int_0^a A_n \\sin\\left(\\tfrac{n \\pi x}{a}\\right) \\left(A_n \\sin\\left(\\tfrac{n \\pi x}{a}\\right) \\right)^* dx \\\\\n",
    "&= \\left|A_n\\right|^2\\int_0^a \\sin^2\\left(\\tfrac{n \\pi x}{a}\\right) dx\n",
    "\\end{align}\n",
    "To evaluate this integral, it is useful to remember some [trigonometric identities](https://en.wikipedia.org/wiki/List_of_trigonometric_identities). You can learn more about how I remember trigonometric identities [here](). "
   ]
  },
  {
   "cell_type": "markdown",
   "metadata": {},
   "source": [
    "## Postulates of Quantum Mechanics\n",
    "![Solvay Conference](https://github.com/PaulWAyers/IntroQChem/blob/main/linkedFiles/SolvayBerny.jfif?raw=true \"The 1927 Solvay Conference on PHOTONS AND ELECTRONS featured debates on quantum mechanics and, of course, Bernie's mittens.\")"
   ]
  },
  {
   "cell_type": "markdown",
   "metadata": {},
   "source": [
    "## &#x1fa9e; Self-Reflection\n",
    "- Can you think of other physical or chemical systems where the particle-in-a-box Hamiltonian would be appropriate?\n",
    "\n",
    "\n",
    "## &#x1f914; Thought-Provoking Questions\n",
    "- How would the wavefunction and ground-state energy change if you made a small change in the particle-in a box Hamiltonian, so that the right-hand-side of the box was a little higher than the left-hand-side? \n",
    "\n",
    "## &#x1f501; Recapitulation\n",
    "- Write the Hamiltonian, time-independent Schr&ouml;dinger equation, eigenfunctions, and eigenvalues for the one-dimensional particle in a box.\n",
    "\n",
    "## &#x1f52e; Next Up...\n",
    "- Multidimensional particle-in-a-box.\n",
    "- Harmonic Oscillator\n",
    "\n",
    "## &#x1f4da; References\n",
    "My favorite sources for this material are:\n",
    "- [Randy's book](https://github.com/PaulWAyers/IntroQChem/blob/main/documents/DumontBook.pdf?raw=true) has an excellent treatment of the particle-in-a-box model, including several extensions to the material covered here. (Chapter 3)\n",
    "- Also see my (pdf) class [notes](https://github.com/PaulWAyers/IntroQChem/blob/main/documents/PinBox.pdf?raw=true).\n",
    "- D. A. MacQuarrie, Quantum Chemistry (University Science Books, Mill Valley California, 1983)\n",
    "- [An excellent explanation of the link to the spectrum of cyanine dyes](https://pubs.acs.org/doi/10.1021/ed084p1840)\n",
    "- Chemistry Libre Text: [one dimensional](https://chem.libretexts.org/Bookshelves/Physical_and_Theoretical_Chemistry_Textbook_Maps/Map%3A_Physical_Chemistry_for_the_Biosciences_(Chang)/11%3A_Quantum_Mechanics_and_Atomic_Structure/11.08%3A_Particle_in_a_One-Dimensional_Box)\n",
    "and [multi-dimensional](https://chem.libretexts.org/Bookshelves/Physical_and_Theoretical_Chemistry_Textbook_Maps/Supplemental_Modules_(Physical_and_Theoretical_Chemistry)/Quantum_Mechanics/05.5%3A_Particle_in_Boxes/Particle_in_a_3-Dimensional_box)\n",
    "\n",
    "There are also some excellent wikipedia articles:\n",
    "- [Particle in a Box](https://en.wikipedia.org/wiki/Particle_in_a_box)\n",
    "- [Particle on a Ring](https://en.wikipedia.org/wiki/Particle_in_a_ring)\n",
    "- [Postulates of Quantum Mechanics](https://en.wikipedia.org/wiki/Mathematical_formulation_of_quantum_mechanics#Postulates_of_quantum_mechanics)"
   ]
  }
 ],
 "metadata": {
  "kernelspec": {
   "display_name": "Python 3",
   "language": "python",
   "name": "python3"
  },
  "language_info": {
   "codemirror_mode": {
    "name": "ipython",
    "version": 3
   },
   "file_extension": ".py",
   "mimetype": "text/x-python",
   "name": "python",
   "nbconvert_exporter": "python",
   "pygments_lexer": "ipython3",
   "version": "3.8.3"
  },
  "toc": {
   "base_numbering": "3",
   "nav_menu": {},
   "number_sections": true,
   "sideBar": true,
   "skip_h1_title": false,
   "title_cell": "Table of Contents",
   "title_sidebar": "Contents",
   "toc_cell": false,
   "toc_position": {},
   "toc_section_display": true,
   "toc_window_display": true
  }
 },
 "nbformat": 4,
 "nbformat_minor": 4
}
