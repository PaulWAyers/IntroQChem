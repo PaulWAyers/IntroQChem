{
 "cells": [
  {
   "cell_type": "markdown",
   "metadata": {},
   "source": [
    "# The One-Dimensional Particle in a Box\n",
    "\n",
    "## &#x1f945; Learning Objectives\n",
    "- Determine the energies and eigenfunctions of the particle-in-a-box.\n",
    "- Learn how to normalize a wavefunction.\n",
    "- Learn how to compute expectation values for quantum-mechanical operators.\n",
    "- Learn the postulates of quantum mechanics"
   ]
  },
  {
   "cell_type": "markdown",
   "metadata": {},
   "source": []
  },
  {
   "cell_type": "markdown",
   "metadata": {},
   "source": [
    "## &#x1fa9e; Self-Reflection\n",
    "- Can you think of other physical or chemical systems where the particle-in-a-box Hamiltonian would be appropriate?\n",
    "\n",
    "\n",
    "## &#x1f914; Thought-Provoking Questions\n",
    "- How would the wavefunction and ground-state energy change if you made a small change in the particle-in a box Hamiltonian, so that the right-hand-side of the box was a little higher than the left-hand-side? \n",
    "\n",
    "## &#x1f501; Recapitulation\n",
    "- Write the Hamiltonian, time-independent Schr&ouml;dinger equation, eigenfunctions, and eigenvalues for the one-dimensional particle in a box.\n",
    "\n",
    "## &#x1f52e; Next Up...\n",
    "- Multidimensional particle-in-a-box.\n",
    "- Harmonic Oscillator\n",
    "\n",
    "## &#x1f4da; References\n",
    "My favorite sources for this material are:\n",
    "- [Randy's book](https://github.com/PaulWAyers/IntroQChem/blob/main/documents/DumontBook.pdf?raw=true) has an excellent treatment of the particle-in-a-box model, including several extensions to the material covered here.\n",
    "- Also see my (pdf) class [notes](https://github.com/PaulWAyers/IntroQChem/blob/main/documents/IntroQM.pdf?raw=true).\n",
    "\n",
    "There are also some excellent wikipedia articles:\n",
    "-"
   ]
  },
  {
   "cell_type": "code",
   "execution_count": null,
   "metadata": {},
   "outputs": [],
   "source": []
  }
 ],
 "metadata": {
  "kernelspec": {
   "display_name": "Python 3",
   "language": "python",
   "name": "python3"
  },
  "language_info": {
   "codemirror_mode": {
    "name": "ipython",
    "version": 3
   },
   "file_extension": ".py",
   "mimetype": "text/x-python",
   "name": "python",
   "nbconvert_exporter": "python",
   "pygments_lexer": "ipython3",
   "version": "3.8.3"
  },
  "toc": {
   "base_numbering": "3",
   "nav_menu": {},
   "number_sections": true,
   "sideBar": true,
   "skip_h1_title": false,
   "title_cell": "Table of Contents",
   "title_sidebar": "Contents",
   "toc_cell": false,
   "toc_position": {},
   "toc_section_display": true,
   "toc_window_display": true
  }
 },
 "nbformat": 4,
 "nbformat_minor": 4
}
