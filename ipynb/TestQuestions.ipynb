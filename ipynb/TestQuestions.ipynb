{
 "cells": [
  {
   "cell_type": "markdown",
   "metadata": {
    "nbgrader": {
     "grade": false,
     "grade_id": "cell-ac1f7a9a2434fbdf",
     "locked": true,
     "schema_version": 3,
     "solution": false,
     "task": false
    }
   },
   "source": [
    "# Introduction to Quantum Mechanics\n",
    "\n",
    "##  &#x1f3af; Objective¶\n",
    "To review basic aspects of quantum mechanics.\n",
    "\n",
    "## &#x1f4dc; Instructions\n",
    "Before you turn this problem in, make sure everything runs as expected. First, restart the kernel (in the menubar, select Kernel → Restart) and then run all cells (in the menubar, select Cell → Run All).\n",
    "\n",
    "Make sure you fill in any place that says YOUR CODE HERE or \"YOUR ANSWER HERE\", as well as your name, username (the prefix to your @university.ext e-mail), and student ID number in the cell below"
   ]
  },
  {
   "cell_type": "code",
   "execution_count": 38,
   "metadata": {},
   "outputs": [],
   "source": [
    "Name = \"First M. Last\"\n",
    "email_user_name = \"username\"\n",
    "ID_number = 1234567\n",
    "\n",
    "import numpy as np"
   ]
  },
  {
   "cell_type": "markdown",
   "metadata": {
    "nbgrader": {
     "grade": false,
     "grade_id": "question3",
     "locked": true,
     "schema_version": 3,
     "solution": false,
     "task": false
    }
   },
   "source": [
    "## &#x1f914; Which of the following phenomena are strongly associated with the particle-nature of light. \n",
    "A. Blackbody radiation <br>\n",
    "B. Compton Scattering  <br>\n",
    "C. Electron Diffraction <br>\n",
    "D. Stern-Gerlach Experiment <br>\n",
    "E. Photoelectric effect "
   ]
  },
  {
   "cell_type": "code",
   "execution_count": 3,
   "metadata": {
    "nbgrader": {
     "grade": false,
     "grade_id": "display3",
     "locked": true,
     "schema_version": 3,
     "solution": false,
     "task": false
    }
   },
   "outputs": [
    {
     "data": {
      "application/vnd.jupyter.widget-view+json": {
       "model_id": "01e45f0cdd11462790d0fa1f77783a67",
       "version_major": 2,
       "version_minor": 0
      },
      "text/plain": [
       "Tab(children=(SelectMultiple(options=('A', 'B', 'C', 'D', 'E'), value=()), SelectMultiple(disabled=True, index…"
      ]
     },
     "metadata": {},
     "output_type": "display_data"
    }
   ],
   "source": [
    "from ipywidgets import interact, interactive, fixed, interact_manual\n",
    "import ipywidgets as widgets\n",
    "\n",
    "tab = widgets.Tab()\n",
    "tab.children = [widgets.SelectMultiple(options=['A', 'B', 'C', 'D', 'E']), \n",
    "            widgets.SelectMultiple(options=['A', 'B', 'C', 'D', 'E'],value=['A','B','E'],disabled=True)]\n",
    "tab.set_title(0,'question'); tab.set_title(1,'answer')\n",
    "tab"
   ]
  },
  {
   "cell_type": "markdown",
   "metadata": {
    "nbgrader": {
     "grade": false,
     "grade_id": "display4",
     "locked": true,
     "schema_version": 3,
     "solution": false,
     "task": false
    },
    "solution2": "shown",
    "solution2_first": true
   },
   "source": [
    "## What is the frequency of light in Hz ($s^{-1}$) of light with wavelength 500 nm?"
   ]
  },
  {
   "cell_type": "code",
   "execution_count": 40,
   "metadata": {
    "nbgrader": {
     "grade": false,
     "grade_id": "autoans4",
     "locked": false,
     "schema_version": 3,
     "solution": true,
     "task": false
    },
    "solution2": "shown"
   },
   "outputs": [],
   "source": [
    "# Use this cell however you like, but report the answer as:\n",
    "# ans4 = [number]\n",
    "ans4 = None\n",
    "\n",
    "### BEGIN SOLUTION\n",
    "# wavelength * frequency = speed of light\n",
    "ans4 = 2.998e8/500e-9\n",
    "### END SOLUTION"
   ]
  },
  {
   "cell_type": "code",
   "execution_count": 42,
   "metadata": {
    "nbgrader": {
     "grade": true,
     "grade_id": "autotest4",
     "locked": true,
     "points": 0,
     "schema_version": 3,
     "solution": false,
     "task": false
    },
    "solution2": "shown"
   },
   "outputs": [
    {
     "name": "stdout",
     "output_type": "stream",
     "text": [
      "the frequency of light with wavelength 500 nm is 5.996e+14 Hz\n"
     ]
    }
   ],
   "source": [
    "assert(isinstance(ans4,float))\n",
    "\n",
    "### BEGIN HIDDEN TESTS\n",
    "np.testing.assert_almost_equal(ans4,2.998e8/500e-9,3)\n",
    "print(\"the frequency of light with wavelength 500 nm is {0:.3e} Hz\".format(ans4))\n",
    "### END HIDDEN TESTS"
   ]
  },
  {
   "cell_type": "markdown",
   "metadata": {
    "nbgrader": {
     "grade": false,
     "grade_id": "answer4a",
     "locked": true,
     "schema_version": 3,
     "solution": false,
     "task": false
    },
    "solution2": "shown"
   },
   "source": [
    "The key equations for this problem are:\n",
    "$$\\lambda \\nu = c$$\n",
    "so\n",
    "$$\\nu = \\frac{c}{\\lambda}$$"
   ]
  }
 ],
 "metadata": {
  "celltoolbar": "Create Assignment",
  "kernelspec": {
   "display_name": "Python 3",
   "language": "python",
   "name": "python3"
  },
  "language_info": {
   "codemirror_mode": {
    "name": "ipython",
    "version": 3
   },
   "file_extension": ".py",
   "mimetype": "text/x-python",
   "name": "python",
   "nbconvert_exporter": "python",
   "pygments_lexer": "ipython3",
   "version": "3.8.3"
  },
  "latex_envs": {
   "LaTeX_envs_menu_present": true,
   "autoclose": false,
   "autocomplete": true,
   "bibliofile": "biblio.bib",
   "cite_by": "apalike",
   "current_citInitial": 1,
   "eqLabelWithNumbers": true,
   "eqNumInitial": 1,
   "hotkeys": {
    "equation": "Ctrl-E",
    "itemize": "Ctrl-I"
   },
   "labels_anchors": false,
   "latex_user_defs": false,
   "report_style_numbering": false,
   "user_envs_cfg": false
  },
  "toc": {
   "base_numbering": 1,
   "nav_menu": {},
   "number_sections": true,
   "sideBar": true,
   "skip_h1_title": false,
   "title_cell": "Table of Contents",
   "title_sidebar": "Contents",
   "toc_cell": false,
   "toc_position": {},
   "toc_section_display": true,
   "toc_window_display": false
  }
 },
 "nbformat": 4,
 "nbformat_minor": 4
}
