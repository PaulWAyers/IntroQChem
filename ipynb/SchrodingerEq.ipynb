{
 "cells": [
  {
   "cell_type": "markdown",
   "metadata": {},
   "source": [
    "# The Schr&ouml;dinger Equation\n",
    "\n",
    "\n",
    "## &#x1f945; Learning Objectives\n",
    "- Review of Plane Wave(functions)\n",
    "- \"Derivation\" of the Schr&ouml;dinger Equation\n",
    "- The Hamiltonian\n",
    "- The Time-Independent Schr&ouml;dinger Equation"
   ]
  },
  {
   "cell_type": "markdown",
   "metadata": {},
   "source": [
    "## &#x1f914; Thought-Provoking Questions\n",
    "- Once upon a time, one of the professors at McMaster was asked \"why is the quantum-mechanical momentum operator associated with the derivative\" and, unable to answer the student, sent the student to me for clarification. Can you justify why the quantum mechanical momentum operator is $\\hat{p} = -i \\hbar \\nabla$?\n",
    "- Once upon a time, a person interviewing for a job as a quantum chemist was asked how it was possible that the kinetic energy of a quantum system was always positive, given that the quantum-mechanical operator for the kinetic energy was \"the negative of something squared\", namely, $\\hat{T} = \\tfrac{-1}{2m}\\nabla^2$. How would you answer this question?"
   ]
  },
  {
   "cell_type": "markdown",
   "metadata": {},
   "source": [
    "## &#x1f4da; References\n",
    "My favorite sources for this material are:\n",
    "- R. Eisberg and R. Resnick, Quantum Physics of Atoms, Molecules, Solids, Nuclei, and Particles (Wiley, New York, 1974)\n",
    "- R. Dumont, [An Emergent Reality, Part 2: Quantum Mechanics](https://github.com/PaulWAyers/IntroQChem/blob/main/documents/DumontBook.pdf?raw=true) (Chapters 1 and 2).\n",
    "- Also see my (pdf) class [notes](https://github.com/PaulWAyers/IntroQChem/blob/main/documents/IntroQM.pdf?raw=true).\n",
    "\n",
    "There are also some excellent wikipedia articles:\n",
    "- [Plane Wave](https://en.wikipedia.org/wiki/Sinusoidal_plane_wave)\n",
    "- [Wavelength-Frequency Relation](https://en.wikipedia.org/wiki/Wavelength)\n",
    "- Schr&ouml;dinger Equation\n",
    "  - [Schr&ouml;dinger Equation](http://en.wikipedia.org/wiki/Schrodinger_equation)\n",
    "  - [Theoretical Justification of S.E.](http://en.wikipedia.org/wiki/Theoretical_and_experimental_justification_for_the_Schr%C3%B6dinger_equation).\n",
    "  - [Momentum Operator](http://en.wikipedia.org/wiki/Momentum_operator)"
   ]
  }
 ],
 "metadata": {
  "kernelspec": {
   "display_name": "Python 3",
   "language": "python",
   "name": "python3"
  },
  "language_info": {
   "codemirror_mode": {
    "name": "ipython",
    "version": 3
   },
   "file_extension": ".py",
   "mimetype": "text/x-python",
   "name": "python",
   "nbconvert_exporter": "python",
   "pygments_lexer": "ipython3",
   "version": "3.8.3"
  },
  "latex_envs": {
   "LaTeX_envs_menu_present": true,
   "autoclose": false,
   "autocomplete": true,
   "bibliofile": "biblio.bib",
   "cite_by": "apalike",
   "current_citInitial": 1,
   "eqLabelWithNumbers": true,
   "eqNumInitial": 1,
   "hotkeys": {
    "equation": "Ctrl-E",
    "itemize": "Ctrl-I"
   },
   "labels_anchors": false,
   "latex_user_defs": false,
   "report_style_numbering": false,
   "user_envs_cfg": false
  },
  "toc": {
   "base_numbering": 1,
   "nav_menu": {},
   "number_sections": true,
   "sideBar": true,
   "skip_h1_title": false,
   "title_cell": "Table of Contents",
   "title_sidebar": "Contents",
   "toc_cell": false,
   "toc_position": {},
   "toc_section_display": true,
   "toc_window_display": false
  }
 },
 "nbformat": 4,
 "nbformat_minor": 4
}
