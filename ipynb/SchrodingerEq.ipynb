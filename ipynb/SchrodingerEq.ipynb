{
 "cells": [
  {
   "cell_type": "markdown",
   "metadata": {},
   "source": [
    "# The Schr&ouml;dinger Equation\n",
    "\n",
    "\n",
    "## &#x1f945; Learning Objectives\n",
    "- Review of Plane Wave(functions)\n",
    "- \"Derivation\" of the Schr&ouml;dinger Equation\n",
    "- The Hamiltonian\n",
    "- The Time-Independent Schr&ouml;dinger Equation"
   ]
  },
  {
   "cell_type": "markdown",
   "metadata": {},
   "source": [
    "## Motivation for the Schr&ouml;dinger Equation\n",
    "Just like Newton’s equations or Maxwell’s equations, the Schrödinger equation is a law of nature:  it cannot be “derived.”  Instead, it must be postulated, and then tested by experiment.  However, just as Newton’s equations can be justified insofar as they encapsulate the “laws of motion” formulated by Galileo and Newton, and Maxwell’s equations can be justified insofar as they encapsulate the “laws of electromagnetism” formulated by Gauss, Faraday, Coulomb, etc., Schr&ouml;dinger's equation can be justified by observing that it encapsulates the “laws” of Planck and De Broglie, namely that\n",
    "$$ E = h \\nu = \\hbar \\omega $$\n",
    "$$ p = \\tfrac{h}{\\lambda} = \\tfrac{h \\nu}{c} = \\hbar k = h \\tilde{\\nu} $$\n",
    "In these equations I have introduced several new symbols, mostly related to the fact it is often convenient to use angular frequency, \n",
    "$$ \\omega = 2 \\pi \\nu $$\n",
    "which naturally pairs with \n",
    "$$ \\hbar = \\tfrac{h}{2 \\pi} $$\n",
    "Similarly, it is often convenient, especially in spectroscopic studies, to use wavenumber,\n",
    "$$ \\tilde{\\nu} = \\tfrac{1}{\\lambda} = \\lambda^{-1} $$\n",
    "or its angular analogue\n",
    "$$ k = \\tfrac{2 \\pi}{\\lambda} = 2 \\pi \\tilde{nu} $$\n",
    "Sometimes it is also useful to consider the period of the wave, \n",
    "$$ \\text{T}  = \\nu^{-1} $$\n",
    "Recall that the wavelength, frequency, period, and wavenumber of a wave can be related to the speed of light by relations like:\n",
    "$$ c = \\lambda \\nu = \\tfrac{\\lambda}{\\text{T}} = \\tilde{\\nu} \\nu $$\n",
    "$$ c = \\tfrac{\\omega}{k} $$"
   ]
  },
  {
   "cell_type": "markdown",
   "metadata": {},
   "source": [
    "### Plane Waves\n",
    "The use of angular frequency and wave number is especially useful when dealing with waves, because the need to explicitly include factors of $2 \\pi$ to describe the periodic oscillations is removed. A one-dimensional plane wave, moving in the $x$ direction, with amplitude $A$, wavelength $\\lambda = \\tfrac{2 \\pi}{k}$, and frequency $\\nu = \\tfrac{\\omega}{2 \\pi}$ is described by\n",
    "$$ \\Psi(x,t) = A e^{i (kx - \\omega t)} = A\\left(\\cos(kx-\\omega t) + i \\sin(kx - \\omega t) \\right) $$\n",
    "Since $\\Psi(x,t)$ is the function that describes a wave, we call it a \"wavefunction.\" Based on electromagnetism, we believe this equation should give us the essential insight we need to describe the \"waviness of particles.\" We need, however, a second equation that will allow us to describe the \"particulateness of waves.\" Since the energy of a wave is proportional to $\\omega$ (Planck-Einstein relation) and the momentum of a wave is proportional to $k$ (De Broglie relation), an equation that relates the energy to the momentum is an obvious candidate. For example,\n",
    "\\begin{align}\n",
    "\\text{energy} &= \\text{kinetic energy} + \\text{potential energy} \\\\\n",
    "E &= T + V(x,t) \\\\\n",
    "E &= \\frac{p^2}{2m} + V(x,t) \n",
    "\\end{align}\n"
   ]
  },
  {
   "cell_type": "markdown",
   "metadata": {},
   "source": [
    "## &#x1f914; Thought-Provoking Questions\n",
    "- Once upon a time, one of the professors at McMaster was asked \"why is the quantum-mechanical momentum operator associated with the derivative\" and, unable to answer the student, sent the student to me for clarification. Can you justify why the quantum mechanical momentum operator is $\\hat{p} = -i \\hbar \\nabla$?\n",
    "- Once upon a time, a person interviewing for a job as a quantum chemist was asked how it was possible that the kinetic energy of a quantum system was always positive, given that the quantum-mechanical operator for the kinetic energy was \"the negative of something squared\", namely, $\\hat{T} = \\tfrac{-1}{2m}\\nabla^2$. How would you answer this question?"
   ]
  },
  {
   "cell_type": "markdown",
   "metadata": {},
   "source": [
    "## &#x1f4da; References\n",
    "My favorite sources for this material are:\n",
    "- R. Eisberg and R. Resnick, Quantum Physics of Atoms, Molecules, Solids, Nuclei, and Particles (Wiley, New York, 1974)\n",
    "- R. Dumont, [An Emergent Reality, Part 2: Quantum Mechanics](https://github.com/PaulWAyers/IntroQChem/blob/main/documents/DumontBook.pdf?raw=true) (Chapters 1 and 2).\n",
    "- Also see my (pdf) class [notes](https://github.com/PaulWAyers/IntroQChem/blob/main/documents/IntroQM.pdf?raw=true).\n",
    "\n",
    "There are also some excellent wikipedia articles:\n",
    "- [Plane Wave](https://en.wikipedia.org/wiki/Sinusoidal_plane_wave)\n",
    "- [Wavelength-Frequency Relation](https://en.wikipedia.org/wiki/Wavelength)\n",
    "- Schr&ouml;dinger Equation\n",
    "  - [Schr&ouml;dinger Equation](http://en.wikipedia.org/wiki/Schrodinger_equation)\n",
    "  - [Theoretical Justification of S.E.](http://en.wikipedia.org/wiki/Theoretical_and_experimental_justification_for_the_Schr%C3%B6dinger_equation).\n",
    "  - [Momentum Operator](http://en.wikipedia.org/wiki/Momentum_operator)"
   ]
  }
 ],
 "metadata": {
  "kernelspec": {
   "display_name": "Python 3",
   "language": "python",
   "name": "python3"
  },
  "language_info": {
   "codemirror_mode": {
    "name": "ipython",
    "version": 3
   },
   "file_extension": ".py",
   "mimetype": "text/x-python",
   "name": "python",
   "nbconvert_exporter": "python",
   "pygments_lexer": "ipython3",
   "version": "3.8.3"
  },
  "latex_envs": {
   "LaTeX_envs_menu_present": true,
   "autoclose": false,
   "autocomplete": true,
   "bibliofile": "biblio.bib",
   "cite_by": "apalike",
   "current_citInitial": 1,
   "eqLabelWithNumbers": true,
   "eqNumInitial": 1,
   "hotkeys": {
    "equation": "Ctrl-E",
    "itemize": "Ctrl-I"
   },
   "labels_anchors": false,
   "latex_user_defs": false,
   "report_style_numbering": false,
   "user_envs_cfg": false
  },
  "toc": {
   "base_numbering": 1,
   "nav_menu": {},
   "number_sections": true,
   "sideBar": true,
   "skip_h1_title": false,
   "title_cell": "Table of Contents",
   "title_sidebar": "Contents",
   "toc_cell": false,
   "toc_position": {},
   "toc_section_display": true,
   "toc_window_display": false
  }
 },
 "nbformat": 4,
 "nbformat_minor": 4
}
