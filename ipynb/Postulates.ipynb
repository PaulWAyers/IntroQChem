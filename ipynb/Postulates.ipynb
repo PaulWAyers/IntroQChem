{
 "cells": [
  {
   "cell_type": "markdown",
   "id": "amber-underwear",
   "metadata": {},
   "source": [
    "# Postulates of Quantum Mechanics\n",
    "![Solvay Conference](https://github.com/PaulWAyers/IntroQChem/blob/main/linkedFiles/SolvayBerny.jfif?raw=true \"The 1927 Solvay Conference on PHOTONS AND ELECTRONS featured debates on quantum mechanics and, of course, Bernie's mittens. It is mused that this pictures has the highest-average-IQ and most-boring-ever-fashion of any picture ever taken. Your political persuasion and personal style will affect your opinion of how the Bernie-meme-ization of the photo affects the IQ, but his timeless mittens unquestionably improves its fashionability.\")"
   ]
  },
  {
   "cell_type": "markdown",
   "id": "exciting-barrier",
   "metadata": {},
   "source": [
    "## &#x1f945; Learning Objectives\n",
    "- List and Discuss the Postulates of Quantum Mechanics.\n",
    "- Use Bra- Ket- notation.\n",
    "- Learn how to manipulate quantum-mechanical operators."
   ]
  },
  {
   "cell_type": "markdown",
   "id": "posted-aircraft",
   "metadata": {},
   "source": [
    "## &#x1fa9e; Self-Reflection\n",
    "- Can you think of other physical or chemical systems where the particle-in-a-box Hamiltonian would be appropriate?\n",
    "\n",
    "\n",
    "## &#x1f914; Thought-Provoking Questions\n",
    "- How would the wavefunction and ground-state energy change if you made a small change in the particle-in a box Hamiltonian, so that the right-hand-side of the box was a little higher than the left-hand-side? \n",
    "- Any system with a zero-point energy of zero is classical. Why? \n",
    "\n",
    "## &#x1f501; Recapitulation\n",
    "- Write the Hamiltonian, time-independent Schr&ouml;dinger equation, eigenfunctions, and eigenvalues for the one-dimensional particle in a box.\n",
    "- Play around with the eigenfunctions and eigenenergies of the particle-in-a-box to build intuition for them.\n",
    "\n",
    "## &#x1f52e; Next Up...\n",
    "- Postulates of Quantum Mechanics\n",
    "- Multielectron particle-in-a-box.\n",
    "- Multidimensional particle-in-a-box.\n",
    "- Harmonic Oscillator\n",
    "\n",
    "## &#x1f4da; References\n",
    "My favorite sources for this material are:\n",
    "- [Randy's book](https://github.com/PaulWAyers/IntroQChem/blob/main/documents/DumontBook.pdf?raw=true) has an excellent treatment of the particle-in-a-box model, including several extensions to the material covered here. (Chapter 3)\n",
    "- Also see my (pdf) class [notes](https://github.com/PaulWAyers/IntroQChem/blob/main/documents/PinBox.pdf?raw=true).\n",
    "- D. A. MacQuarrie, Quantum Chemistry (University Science Books, Mill Valley California, 1983)\n",
    "- [An excellent explanation of the link to the spectrum of cyanine dyes](https://pubs.acs.org/doi/10.1021/ed084p1840)\n",
    "- Chemistry Libre Text: [one dimensional](https://chem.libretexts.org/Bookshelves/Physical_and_Theoretical_Chemistry_Textbook_Maps/Map%3A_Physical_Chemistry_for_the_Biosciences_(Chang)/11%3A_Quantum_Mechanics_and_Atomic_Structure/11.08%3A_Particle_in_a_One-Dimensional_Box)\n",
    "and [multi-dimensional](https://chem.libretexts.org/Bookshelves/Physical_and_Theoretical_Chemistry_Textbook_Maps/Supplemental_Modules_(Physical_and_Theoretical_Chemistry)/Quantum_Mechanics/05.5%3A_Particle_in_Boxes/Particle_in_a_3-Dimensional_box)\n",
    "- [McQuarrie and Simon summary](https://chem.libretexts.org/Bookshelves/Physical_and_Theoretical_Chemistry_Textbook_Maps/Map%3A_Physical_Chemistry_(McQuarrie_and_Simon)/03%3A_The_Schrodinger_Equation_and_a_Particle_in_a_Box)\n",
    "- [Mathematical Features of Quantum Mechanics]() (my notes).\n",
    "\n",
    "There are also some excellent wikipedia articles:\n",
    "- [Particle in a Box](https://en.wikipedia.org/wiki/Particle_in_a_box)\n",
    "- [Particle on a Ring](https://en.wikipedia.org/wiki/Particle_in_a_ring)\n",
    "- [Postulates of Quantum Mechanics](https://en.wikipedia.org/wiki/Mathematical_formulation_of_quantum_mechanics#Postulates_of_quantum_mechanics)"
   ]
  },
  {
   "cell_type": "code",
   "execution_count": null,
   "id": "experimental-phone",
   "metadata": {},
   "outputs": [],
   "source": []
  }
 ],
 "metadata": {
  "kernelspec": {
   "display_name": "Python 3",
   "language": "python",
   "name": "python3"
  },
  "toc": {
   "base_numbering": "4",
   "nav_menu": {},
   "number_sections": true,
   "sideBar": true,
   "skip_h1_title": false,
   "title_cell": "Table of Contents",
   "title_sidebar": "Contents",
   "toc_cell": false,
   "toc_position": {},
   "toc_section_display": true,
   "toc_window_display": true
  }
 },
 "nbformat": 4,
 "nbformat_minor": 5
}
